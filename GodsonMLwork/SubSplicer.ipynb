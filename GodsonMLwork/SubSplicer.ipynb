{
  "nbformat": 4,
  "nbformat_minor": 0,
  "metadata": {
    "colab": {
      "provenance": []
    },
    "kernelspec": {
      "name": "python3",
      "display_name": "Python 3"
    },
    "language_info": {
      "name": "python"
    }
  },
  "cells": [
    {
      "cell_type": "markdown",
      "source": [
        "#**Reading Text Files**"
      ],
      "metadata": {
        "id": "1ccg9X0hiic_"
      }
    },
    {
      "cell_type": "code",
      "execution_count": 1,
      "metadata": {
        "colab": {
          "base_uri": "https://localhost:8080/"
        },
        "id": "9mCSqyhuW_Mw",
        "outputId": "dc1faa0d-088f-4976-fa85-ae95434e41e6"
      },
      "outputs": [
        {
          "output_type": "stream",
          "name": "stdout",
          "text": [
            "Drive already mounted at /content/drive; to attempt to forcibly remount, call drive.mount(\"/content/drive\", force_remount=True).\n",
            "[[3.0, 0.229004, 0.103788, 0.02373, 0.027424], [3.0, 0.414893, 0.113337, 0.020508, 0.022168], [1.0, 0.699707, 0.051751, 0.071973, 0.056565], [1.0, 0.625317, 0.192772, 0.029932, 0.084665], [4.0, 0.538086, 0.198002, 0.027344, 0.035385], [1.0, 0.633301, 0.512983, 0.062207, 0.073581], [3.0, 0.408374, 0.705339, 0.01792, 0.018369], [2.0, 0.347656, 0.810975, 0.05791, 0.032627], [1.0, 0.120752, 0.719207, 0.048828, 0.063485], [1.0, 0.111646, 0.873445, 0.057959, 0.043711], [1.0, 0.236328, 0.829006, 0.044922, 0.047874]]\n"
          ]
        }
      ],
      "source": [
        "import pandas as pd\n",
        "import matplotlib.pyplot as plt\n",
        "import csv\n",
        "import os\n",
        "from PIL import Image\n",
        "import numpy as np\n",
        "\n",
        "# Load the Drive helper and mount\n",
        "from google.colab import drive\n",
        "\n",
        "# This will prompt for authorization.\n",
        "drive.mount('/content/drive')\n",
        "\n",
        "#colab can't access shared folders so I created a folder in my drive and to add individual folders from the data\n",
        "\n",
        "with open('drive/MyDrive/AgriLifeMicrohistologicalProject/161HD/002/161HD_002.txt', newline='') as f: #reads txt file and turns into 2d list\n",
        "    reader = csv.reader(f, delimiter=' ')\n",
        "    data = list(reader)\n",
        "\n",
        "grass = []\n",
        "holder = []\n",
        "count = 0\n",
        "\n",
        "for x in data: #turns all string in 2d list to float\n",
        "  for y in x:\n",
        "    holder.append(float(y))\n",
        "    count += 1\n",
        "\n",
        "  if count == 5:\n",
        "    count = 0\n",
        "    grass.append(holder)\n",
        "    holder = []\n",
        "\n",
        "print(grass)"
      ]
    },
    {
      "cell_type": "markdown",
      "source": [
        "#**Feature Snipping**"
      ],
      "metadata": {
        "id": "uTI7MTwZCojf"
      }
    },
    {
      "cell_type": "code",
      "source": [
        "def upload_cropped_image(img_cropped, folder_name, img_name):\n",
        "  folder_path = f'/content/drive/My Drive/AgriLifeMicrohistologicalProject/FeatureImages/{folder_name}'\n",
        "  if not os.path.exists(folder_path):\n",
        "    os.makedirs(folder_path)\n",
        "\n",
        "  fig, ax = plt.subplots()  # Create a figure and axes\n",
        "  ax.imshow(img_cropped)  # Display the image on the axes\n",
        "  ax.axis('off')  # Turn off axis markers\n",
        "\n",
        "  # Save the figure, if there's a duplicate save with the same name savefig will auto overwrite the previous save so no duplicates\n",
        "  fig.savefig(f'{folder_path}/{img_name}.png', bbox_inches='tight', pad_inches = 0)\n",
        "  plt.close(fig)"
      ],
      "metadata": {
        "id": "8VpuvI9K8QNi"
      },
      "execution_count": 2,
      "outputs": []
    },
    {
      "cell_type": "code",
      "source": [
        "img_path = 'drive/MyDrive/AgriLifeMicrohistologicalProject/161HD/002/161HD_002.png'\n",
        "\n",
        "#creates concatenates to name the files based on the given unique image name\n",
        "filename = os.path.basename(img_path).split('.')[0].replace(\" \", \"\")\n",
        "\n",
        "img = plt.imread(img_path) #gets image data\n",
        "\n",
        "nale_count = 0\n",
        "qufu_count = 0\n",
        "erci_count = 0\n",
        "bubble_count = 0\n",
        "qufu_stem_count = 0\n",
        "\n",
        "#crops the image based on every line in the text file and uploads them to a given folder using each picture's unique name\n",
        "for ind in range(len(grass)):\n",
        "  height, width = img.shape[0:2] #stores dimensions of image\n",
        "\n",
        "  #snipping math using txt file numbers\n",
        "  x_min = round((width * grass[ind][1]) - (width * grass[ind][3])/2)\n",
        "  x_max = round((width * grass[ind][1]) + (width * grass[ind][3])/2)\n",
        "  y_min = round((height * grass[ind][2]) - (height * grass[ind][4])/2)\n",
        "  y_max = round((height * grass[ind][2]) + (height * grass[ind][4])/2)\n",
        "\n",
        "  img_cropped = img[y_min:y_max, x_min:x_max]\n",
        "  if(grass[ind][0] == 0):\n",
        "    nale_count += 1 #labels each unique feature snipped from the image\n",
        "    upload_cropped_image(img_cropped, '0 - nale', f\"{filename}_{nale_count}\")\n",
        "\n",
        "  elif(grass[ind][0] == 1):\n",
        "    qufu_count += 1\n",
        "    upload_cropped_image(img_cropped, '1 - qufu', f\"{filename}_{qufu_count}\")\n",
        "\n",
        "  elif(grass[ind][0] == 2):\n",
        "    erci_count += 1\n",
        "    upload_cropped_image(img_cropped, '2 - erci', f\"{filename}_{erci_count}\")\n",
        "\n",
        "  elif(grass[ind][0] == 3):\n",
        "    bubble_count += 1\n",
        "    upload_cropped_image(img_cropped, '3 - bubble', f\"{filename}_{bubble_count}\")\n",
        "\n",
        "  elif(grass[ind][0] == 4):\n",
        "    qufu_stem_count += 1\n",
        "    upload_cropped_image(img_cropped, '4 - qufu stem', f\"{filename}_{qufu_stem_count}\")"
      ],
      "metadata": {
        "id": "beq5ilcjzoMo"
      },
      "execution_count": 3,
      "outputs": []
    },
    {
      "cell_type": "markdown",
      "source": [
        "#**Sub Feature Snipping**"
      ],
      "metadata": {
        "id": "whZLBiG4FWuF"
      }
    },
    {
      "cell_type": "code",
      "source": [
        "def splice_featimg(featimg_path, output_folder, sub_image_size=100):\n",
        "    featimg = plt.imread(featimg_path)\n",
        "\n",
        "    # Get image dimensions\n",
        "    height, width, channels = featimg.shape\n",
        "    #print(featimg.shape)\n",
        "\n",
        "    # Iterate over the image in sub-image-sized blocks\n",
        "    sub_image_count = 0  # Initialize sub-image counter\n",
        "    for y in range(0, height, sub_image_size):\n",
        "        for x in range(0, width, sub_image_size):\n",
        "            # Extract the sub-image\n",
        "            sub_img = featimg[y:y + sub_image_size, x:x + sub_image_size]\n",
        "\n",
        "            #checks if sub image is the expected dimensions and checks to make sure it's not all whitespace\n",
        "            if sub_img.shape[0] == sub_image_size and sub_img.shape[1] == sub_image_size:\n",
        "\n",
        "                # Separate the RGB and alpha channels\n",
        "                rgb = sub_img[..., :3]\n",
        "                alpha = sub_img[..., 3]\n",
        "\n",
        "                # Convert the RGB part to grayscale\n",
        "                grayscale = np.mean(rgb, axis=-1)\n",
        "\n",
        "                # Apply the threshold to detect white pixels\n",
        "                white_pixels = np.sum((grayscale >= (240/255)) & (alpha > 0))\n",
        "\n",
        "                # Total number of non-transparent pixels\n",
        "                total_pixels = np.sum(alpha > 0)\n",
        "\n",
        "                # Calculate the percentage of white pixels\n",
        "                whitespace_percentage = (white_pixels / total_pixels) * 100\n",
        "\n",
        "                print(f\"{os.path.basename(featimg_path).split('.')[0]}_sub_{sub_image_count} whitespace percent: {whitespace_percentage}\")\n",
        "\n",
        "                # Ignore sub-images with more than 95% whitespace\n",
        "                if whitespace_percentage < 95:\n",
        "\n",
        "                  # Create a figure and axes for the sub-image\n",
        "                  fig, ax = plt.subplots()\n",
        "\n",
        "                  # Display the sub-image on the axes\n",
        "                  ax.imshow(sub_img)\n",
        "                  ax.axis('off')  # Turn off axis markers\n",
        "\n",
        "                  # Save the sub-image using plt.savefig and names it\n",
        "                  sub_image_filename = f\"{os.path.basename(featimg_path).split('.')[0]}_sub_{sub_image_count}.png\"\n",
        "                  sub_image_path = os.path.join(output_folder, sub_image_filename)\n",
        "                  fig.savefig(sub_image_path, bbox_inches='tight', pad_inches=0)\n",
        "\n",
        "                  # Close the figure to release resources\n",
        "                  plt.close(fig)\n",
        "\n",
        "                  sub_image_count += 1  # Increment sub-image counter"
      ],
      "metadata": {
        "id": "0e6i-taE148Y"
      },
      "execution_count": 44,
      "outputs": []
    },
    {
      "cell_type": "code",
      "source": [
        "import os\n",
        "\n",
        "# Get a list of all featimg files in the '4 - qufu stem' folder\n",
        "featfolder = '4 - qufu stem'\n",
        "featimg_folder = f'drive/MyDrive/AgriLifeMicrohistologicalProject/FeatureImages/{featfolder}'\n",
        "featimg_files = [f for f in os.listdir(featimg_folder) if f.endswith('.png')]\n",
        "\n",
        "# Splice each featimg\n",
        "output_subimg_folder = f'drive/MyDrive/AgriLifeMicrohistologicalProject/SubImages/{featfolder}'\n",
        "for featimg_file in featimg_files:\n",
        "    featimg_path = os.path.join(featimg_folder, featimg_file)\n",
        "    splice_featimg(featimg_path, output_subimg_folder)"
      ],
      "metadata": {
        "colab": {
          "base_uri": "https://localhost:8080/"
        },
        "collapsed": true,
        "id": "vgFVL6cI_UCV",
        "outputId": "93e4983d-292b-4d13-cbf1-bfb9ee297c4b"
      },
      "execution_count": 48,
      "outputs": [
        {
          "output_type": "stream",
          "name": "stdout",
          "text": [
            "(369, 106, 4)\n",
            "174Export001_1_sub_0 whitespace percent: 0.22999999999999998\n",
            "174Export001_1_sub_1 whitespace percent: 0.0\n",
            "174Export001_1_sub_2 whitespace percent: 0.0\n",
            "(369, 178, 4)\n",
            "182HD_002_1_sub_0 whitespace percent: 8.99\n",
            "182HD_002_1_sub_1 whitespace percent: 14.000000000000002\n",
            "182HD_002_1_sub_2 whitespace percent: 15.68\n",
            "(369, 112, 4)\n",
            "180HD_003_1_sub_0 whitespace percent: 3.93\n",
            "180HD_003_1_sub_1 whitespace percent: 0.51\n",
            "180HD_003_1_sub_2 whitespace percent: 13.850000000000001\n",
            "(369, 304, 4)\n",
            "161HD_002_1_sub_0 whitespace percent: 21.12\n",
            "161HD_002_1_sub_1 whitespace percent: 37.16\n",
            "161HD_002_1_sub_2 whitespace percent: 99.91\n",
            "161HD_002_1_sub_2 whitespace percent: 20.669999999999998\n",
            "161HD_002_1_sub_3 whitespace percent: 47.089999999999996\n",
            "161HD_002_1_sub_4 whitespace percent: 67.73\n",
            "161HD_002_1_sub_5 whitespace percent: 20.25\n",
            "161HD_002_1_sub_6 whitespace percent: 35.78\n",
            "161HD_002_1_sub_7 whitespace percent: 26.87\n"
          ]
        }
      ]
    }
  ]
}