{
  "cells": [
    {
      "cell_type": "code",
      "execution_count": null,
      "metadata": {
        "colab": {
          "base_uri": "https://localhost:8080/"
        },
        "id": "LccII3USfCit",
        "outputId": "28b4959f-04ab-4c85-a92f-b7ceb589460f"
      },
      "outputs": [
        {
          "name": "stdout",
          "output_type": "stream",
          "text": [
            "\r0% [Working]\r            \rGet:1 https://cloud.r-project.org/bin/linux/ubuntu jammy-cran40/ InRelease [3,626 B]\n",
            "Get:2 https://developer.download.nvidia.com/compute/cuda/repos/ubuntu2204/x86_64  InRelease [1,581 B]\n",
            "Get:3 http://security.ubuntu.com/ubuntu jammy-security InRelease [129 kB]\n",
            "Get:4 https://r2u.stat.illinois.edu/ubuntu jammy InRelease [6,555 B]\n",
            "Hit:5 http://archive.ubuntu.com/ubuntu jammy InRelease\n",
            "Get:6 https://developer.download.nvidia.com/compute/cuda/repos/ubuntu2204/x86_64  Packages [1,234 kB]\n",
            "Get:7 http://archive.ubuntu.com/ubuntu jammy-updates InRelease [128 kB]\n",
            "Hit:8 https://ppa.launchpadcontent.net/deadsnakes/ppa/ubuntu jammy InRelease\n",
            "Get:9 https://ppa.launchpadcontent.net/graphics-drivers/ppa/ubuntu jammy InRelease [24.3 kB]\n",
            "Get:10 https://r2u.stat.illinois.edu/ubuntu jammy/main amd64 Packages [2,646 kB]\n",
            "Get:11 http://archive.ubuntu.com/ubuntu jammy-backports InRelease [127 kB]\n",
            "Hit:12 https://ppa.launchpadcontent.net/ubuntugis/ppa/ubuntu jammy InRelease\n",
            "Get:13 https://r2u.stat.illinois.edu/ubuntu jammy/main all Packages [8,619 kB]\n",
            "Get:14 http://security.ubuntu.com/ubuntu jammy-security/main amd64 Packages [2,561 kB]\n",
            "Get:15 http://archive.ubuntu.com/ubuntu jammy-updates/main amd64 Packages [2,861 kB]\n",
            "Get:16 http://security.ubuntu.com/ubuntu jammy-security/universe amd64 Packages [1,228 kB]\n",
            "Get:17 https://ppa.launchpadcontent.net/graphics-drivers/ppa/ubuntu jammy/main amd64 Packages [53.6 kB]\n",
            "Get:18 http://archive.ubuntu.com/ubuntu jammy-updates/universe amd64 Packages [1,519 kB]\n",
            "Get:19 http://archive.ubuntu.com/ubuntu jammy-backports/universe amd64 Packages [35.2 kB]\n",
            "Fetched 21.2 MB in 4s (5,346 kB/s)\n",
            "Reading package lists... Done\n",
            "W: Skipping acquire of configured file 'main/source/Sources' as repository 'https://r2u.stat.illinois.edu/ubuntu jammy InRelease' does not seem to provide it (sources.list entry misspelt?)\n",
            "Reading package lists... Done\n",
            "Building dependency tree... Done\n",
            "Reading state information... Done\n",
            "unixodbc-dev is already the newest version (2.3.9-5ubuntu0.1).\n",
            "unixodbc-dev set to manually installed.\n",
            "0 upgraded, 0 newly installed, 0 to remove and 57 not upgraded.\n",
            "Collecting pyodbc\n",
            "  Downloading pyodbc-5.2.0-cp311-cp311-manylinux_2_17_x86_64.manylinux2014_x86_64.whl.metadata (2.7 kB)\n",
            "Downloading pyodbc-5.2.0-cp311-cp311-manylinux_2_17_x86_64.manylinux2014_x86_64.whl (346 kB)\n",
            "\u001b[2K   \u001b[90m━━━━━━━━━━━━━━━━━━━━━━━━━━━━━━━━━━━━━━━━\u001b[0m \u001b[32m346.2/346.2 kB\u001b[0m \u001b[31m5.2 MB/s\u001b[0m eta \u001b[36m0:00:00\u001b[0m\n",
            "\u001b[?25hInstalling collected packages: pyodbc\n",
            "Successfully installed pyodbc-5.2.0\n"
          ]
        }
      ],
      "source": [
        "!sudo apt-get update\n",
        "!sudo apt-get install -y unixodbc-dev\n",
        "!pip install pyodbc\n"
      ]
    },
    {
      "cell_type": "code",
      "execution_count": null,
      "metadata": {
        "colab": {
          "base_uri": "https://localhost:8080/"
        },
        "id": "JWl4yQRhgubX",
        "outputId": "81ac9f69-a754-4fbd-b130-46b1e6368574"
      },
      "outputs": [
        {
          "name": "stdout",
          "output_type": "stream",
          "text": [
            "--2025-01-23 04:57:51--  https://packages.microsoft.com/config/ubuntu/22.04/packages-microsoft-prod.deb\n",
            "Resolving packages.microsoft.com (packages.microsoft.com)... 13.107.246.38, 2620:1ec:bdf::38\n",
            "Connecting to packages.microsoft.com (packages.microsoft.com)|13.107.246.38|:443... connected.\n",
            "HTTP request sent, awaiting response... 200 OK\n",
            "Length: 3692 (3.6K) [application/octet-stream]\n",
            "Saving to: ‘packages-microsoft-prod.deb’\n",
            "\n",
            "\r          packages-   0%[                    ]       0  --.-KB/s               \rpackages-microsoft- 100%[===================>]   3.61K  --.-KB/s    in 0s      \n",
            "\n",
            "2025-01-23 04:57:51 (1.67 GB/s) - ‘packages-microsoft-prod.deb’ saved [3692/3692]\n",
            "\n",
            "(Reading database ... 124602 files and directories currently installed.)\n",
            "Preparing to unpack packages-microsoft-prod.deb ...\n",
            "Unpacking packages-microsoft-prod (1.0-ubuntu22.04.1) over (1.0-ubuntu22.04.1) ...\n",
            "Setting up packages-microsoft-prod (1.0-ubuntu22.04.1) ...\n",
            "Hit:1 https://cloud.r-project.org/bin/linux/ubuntu jammy-cran40/ InRelease\n",
            "Hit:2 http://security.ubuntu.com/ubuntu jammy-security InRelease\n",
            "Hit:3 https://developer.download.nvidia.com/compute/cuda/repos/ubuntu2204/x86_64  InRelease\n",
            "Hit:4 https://packages.microsoft.com/ubuntu/22.04/prod jammy InRelease\n",
            "Hit:5 https://r2u.stat.illinois.edu/ubuntu jammy InRelease\n",
            "Hit:6 http://archive.ubuntu.com/ubuntu jammy InRelease\n",
            "Hit:7 http://archive.ubuntu.com/ubuntu jammy-updates InRelease\n",
            "Hit:8 http://archive.ubuntu.com/ubuntu jammy-backports InRelease\n",
            "Hit:9 https://ppa.launchpadcontent.net/deadsnakes/ppa/ubuntu jammy InRelease\n",
            "Hit:10 https://ppa.launchpadcontent.net/graphics-drivers/ppa/ubuntu jammy InRelease\n",
            "Hit:11 https://ppa.launchpadcontent.net/ubuntugis/ppa/ubuntu jammy InRelease\n",
            "Reading package lists... Done\n",
            "W: Skipping acquire of configured file 'main/source/Sources' as repository 'https://r2u.stat.illinois.edu/ubuntu jammy InRelease' does not seem to provide it (sources.list entry misspelt?)\n",
            "Reading package lists... Done\n",
            "Building dependency tree... Done\n",
            "Reading state information... Done\n",
            "unixodbc-dev is already the newest version (2.3.9-5ubuntu0.1).\n",
            "The following NEW packages will be installed:\n",
            "  msodbcsql17\n",
            "0 upgraded, 1 newly installed, 0 to remove and 57 not upgraded.\n",
            "Need to get 746 kB of archives.\n",
            "After this operation, 0 B of additional disk space will be used.\n",
            "Get:1 https://packages.microsoft.com/ubuntu/22.04/prod jammy/main amd64 msodbcsql17 amd64 17.10.6.1-1 [746 kB]\n",
            "Fetched 746 kB in 1s (1,176 kB/s)\n",
            "debconf: unable to initialize frontend: Dialog\n",
            "debconf: (No usable dialog-like program is installed, so the dialog based frontend cannot be used. at /usr/share/perl5/Debconf/FrontEnd/Dialog.pm line 78, <> line 1.)\n",
            "debconf: falling back to frontend: Readline\n",
            "debconf: unable to initialize frontend: Readline\n",
            "debconf: (This frontend requires a controlling tty.)\n",
            "debconf: falling back to frontend: Teletype\n",
            "dpkg-preconfigure: unable to re-open stdin: \n",
            "Selecting previously unselected package msodbcsql17.\n",
            "(Reading database ... 124602 files and directories currently installed.)\n",
            "Preparing to unpack .../msodbcsql17_17.10.6.1-1_amd64.deb ...\n",
            "debconf: unable to initialize frontend: Dialog\n",
            "debconf: (No usable dialog-like program is installed, so the dialog based frontend cannot be used. at /usr/share/perl5/Debconf/FrontEnd/Dialog.pm line 78.)\n",
            "debconf: falling back to frontend: Readline\n",
            "Unpacking msodbcsql17 (17.10.6.1-1) ...\n",
            "Setting up msodbcsql17 (17.10.6.1-1) ...\n",
            "odbcinst: Driver installed. Usage count increased to 1. \n",
            "    Target directory is /etc\n",
            "Requirement already satisfied: pyodbc in /usr/local/lib/python3.11/dist-packages (5.2.0)\n"
          ]
        }
      ],
      "source": [
        "# 1. Register Microsoft’s 22.04 repository\n",
        "!wget https://packages.microsoft.com/config/ubuntu/22.04/packages-microsoft-prod.deb -O packages-microsoft-prod.deb\n",
        "!sudo dpkg -i packages-microsoft-prod.deb\n",
        "!sudo apt-get update\n",
        "\n",
        "# 2. Attempt installing msodbcsql17\n",
        "!sudo apt-get install -y msodbcsql17 unixodbc-dev\n",
        "!pip install pyodbc\n"
      ]
    },
    {
      "cell_type": "code",
      "execution_count": null,
      "metadata": {
        "colab": {
          "base_uri": "https://localhost:8080/"
        },
        "id": "VvEAU4Gsgxx0",
        "outputId": "1ea73add-5e91-4323-c206-1324efc29338"
      },
      "outputs": [
        {
          "name": "stdout",
          "output_type": "stream",
          "text": [
            "[ODBC Driver 18 for SQL Server]\n",
            "[ODBC Driver 17 for SQL Server]\n"
          ]
        }
      ],
      "source": [
        "!odbcinst -q -d\n"
      ]
    },
    {
      "cell_type": "code",
      "execution_count": null,
      "metadata": {
        "id": "-nEp68byg6FJ"
      },
      "outputs": [],
      "source": []
    },
    {
      "cell_type": "code",
      "execution_count": null,
      "metadata": {
        "colab": {
          "base_uri": "https://localhost:8080/"
        },
        "id": "NCDmUHqSg_mY",
        "outputId": "4a851fbe-3cc7-4376-92f3-026eb148cd57"
      },
      "outputs": [
        {
          "name": "stdout",
          "output_type": "stream",
          "text": [
            "[ODBC Driver 18 for SQL Server]\n",
            "[ODBC Driver 17 for SQL Server]\n"
          ]
        }
      ],
      "source": [
        "!odbcinst -q -d\n"
      ]
    },
    {
      "cell_type": "code",
      "execution_count": null,
      "metadata": {
        "colab": {
          "base_uri": "https://localhost:8080/"
        },
        "id": "UmPOlpnnfQt0",
        "outputId": "13a85e62-f832-4309-d2c8-5ce87e5d4455"
      },
      "outputs": [
        {
          "name": "stdout",
          "output_type": "stream",
          "text": [
            "Connection failed: ('42000', \"[42000] [Microsoft][ODBC Driver 17 for SQL Server][SQL Server]Cannot open server 'sqldatabase404' requested by the login. Client with IP address '35.188.120.245' is not allowed to access the server.  To enable access, use the Azure Management Portal or run sp_set_firewall_rule on the master database to create a firewall rule for this IP address or address range.  It may take up to five minutes for this change to take effect. (40615) (SQLDriverConnect)\")\n"
          ]
        }
      ],
      "source": [
        "import pyodbc\n",
        "import os\n",
        "\n",
        "# Example connection parameters\n",
        "server = 'sqldatabase404.database.windows.net'       # e.g. \"myserver.database.windows.net\"\n",
        "database = '404ImageDBsql'\n",
        "username = 'sql404admin'\n",
        "password = 'sheepstool404()'\n",
        "driver_name = \"ODBC Driver 17 for SQL Server\"\n",
        "  # or 'ODBC Driver 18 for SQL Server'\n",
        "\n",
        "connection_string = f'''\n",
        "    DRIVER={{{driver_name}}};\n",
        "    SERVER={server};\n",
        "    DATABASE={database};\n",
        "    UID={username};\n",
        "    PWD={password};\n",
        "    TrustServerCertificate=no;\n",
        "'''\n",
        "\n",
        "try:\n",
        "    conn = pyodbc.connect(connection_string)\n",
        "    print(\"Connected to SQL Server!\")\n",
        "    # Only proceed if connection is successful\n",
        "    cursor = conn.cursor()\n",
        "except Exception as e:\n",
        "    print(\"Connection failed:\", e)\n",
        "    # Handle connection failure, maybe exit or retry\n",
        "    # For now, we'll just exit\n",
        "    exit(1) # or raise e to re-raise the exception\n",
        "\n",
        "# Now you can safely use the cursor\n",
        "# ... your code using cursor ..."
      ]
    },
    {
      "cell_type": "markdown",
      "metadata": {
        "id": "UOx_AhjtfuA5"
      },
      "source": []
    },
    {
      "cell_type": "code",
      "execution_count": null,
      "metadata": {
        "colab": {
          "base_uri": "https://localhost:8080/"
        },
        "id": "mbBALQlnf4pA",
        "outputId": "eb30ea2c-99ee-48fd-a19a-0adbbbe5cba6"
      },
      "outputs": [
        {
          "name": "stdout",
          "output_type": "stream",
          "text": [
            "PRETTY_NAME=\"Ubuntu 22.04.3 LTS\"\n",
            "NAME=\"Ubuntu\"\n",
            "VERSION_ID=\"22.04\"\n",
            "VERSION=\"22.04.3 LTS (Jammy Jellyfish)\"\n",
            "VERSION_CODENAME=jammy\n",
            "ID=ubuntu\n",
            "ID_LIKE=debian\n",
            "HOME_URL=\"https://www.ubuntu.com/\"\n",
            "SUPPORT_URL=\"https://help.ubuntu.com/\"\n",
            "BUG_REPORT_URL=\"https://bugs.launchpad.net/ubuntu/\"\n",
            "PRIVACY_POLICY_URL=\"https://www.ubuntu.com/legal/terms-and-policies/privacy-policy\"\n",
            "UBUNTU_CODENAME=jammy\n"
          ]
        }
      ],
      "source": [
        "!cat /etc/os-release\n"
      ]
    },
    {
      "cell_type": "code",
      "execution_count": null,
      "metadata": {
        "colab": {
          "base_uri": "https://localhost:8080/"
        },
        "id": "M_LnS3PCgaL7",
        "outputId": "6ff12202-2dd2-4362-9997-212c72a27e2f"
      },
      "outputs": [
        {
          "name": "stdout",
          "output_type": "stream",
          "text": [
            "35.188.120.245"
          ]
        }
      ],
      "source": [
        "!curl ipecho.net/plain"
      ]
    },
    {
      "cell_type": "code",
      "execution_count": null,
      "metadata": {
        "id": "iYNHez44pVJy"
      },
      "outputs": [],
      "source": [
        "import pyodbc\n",
        "server = 'sqldatabase404.database.windows.net'\n",
        "database = 'master'\n",
        "username = 'sql404admin'\n",
        "password = 'sheepstool404()'\n",
        "driver_name = \"ODBC Driver 17 for SQL Server\"\n",
        "\n",
        "connection_string = f'''\n",
        "       DRIVER={{{driver_name}}};\n",
        "       SERVER={server};\n",
        "       DATABASE={database};\n",
        "       UID={username};\n",
        "       PWD={password};\n",
        "       TrustServerCertificate=no;\n",
        "   '''\n",
        "\n",
        "conn = pyodbc.connect(connection_string)\n",
        "cursor = conn.cursor()"
      ]
    },
    {
      "cell_type": "code",
      "execution_count": null,
      "metadata": {
        "colab": {
          "base_uri": "https://localhost:8080/"
        },
        "id": "BFOT_SW3pgyr",
        "outputId": "c9a3ec8d-71bf-4a94-dfc1-9a106532c091"
      },
      "outputs": [
        {
          "name": "stdout",
          "output_type": "stream",
          "text": [
            "Successfully connected to the SQL Server and executed a query!\n"
          ]
        }
      ],
      "source": [
        "import pyodbc\n",
        "\n",
        "# ... (your connection code from previous steps) ...\n",
        "\n",
        "try:\n",
        "    cursor = conn.cursor()\n",
        "    cursor.execute(\"SELECT 1\")  # Simple query to check connection\n",
        "    result = cursor.fetchone()\n",
        "    if result:\n",
        "        print(\"Successfully connected to the SQL Server and executed a query!\")\n",
        "    else:\n",
        "        print(\"Connection might be established, but query execution failed.\")\n",
        "except pyodbc.Error as ex:\n",
        "    sqlstate = ex.args[0]\n",
        "    print(f\"Error connecting or executing query: {sqlstate}\")\n",
        "\n",
        "# ... (rest of your code) ..."
      ]
    },
    {
      "cell_type": "code",
      "execution_count": null,
      "metadata": {
        "colab": {
          "base_uri": "https://localhost:8080/"
        },
        "id": "sB6C-3m9tX_E",
        "outputId": "9f34905d-9161-40b5-a192-e80ec97e062e"
      },
      "outputs": [
        {
          "name": "stdout",
          "output_type": "stream",
          "text": [
            "Currently connected to database: master\n"
          ]
        }
      ],
      "source": [
        "import pyodbc\n",
        "\n",
        "# ... (your existing connection code to 'master') ...\n",
        "\n",
        "# 1. Check current database:\n",
        "cursor.execute(\"SELECT DB_NAME()\")\n",
        "current_database = cursor.fetchone()[0]\n",
        "print(f\"Currently connected to database: {current_database}\")\n",
        "\n"
      ]
    },
    {
      "cell_type": "code",
      "execution_count": null,
      "metadata": {
        "id": "AYl8Cyrdp1Vm"
      },
      "outputs": [],
      "source": [
        "server = 'sqldatabase404.database.windows.net'\n",
        "database = '404ImageDBsql'\n",
        "username = 'sql404admin'\n",
        "password = 'sheepstool404()'\n",
        "driver_name = \"ODBC Driver 17 for SQL Server\"\n",
        "\n",
        "# 2. Create a new connection to the desired database:\n",
        "connection_string = f'''\n",
        "    DRIVER={{{driver_name}}};\n",
        "    SERVER={server};\n",
        "    DATABASE={database};\n",
        "    UID={username};\n",
        "    PWD={password};\n",
        "    TrustServerCertificate=no;\n",
        "'''\n",
        "conn_new = pyodbc.connect(connection_string)  # New connection\n",
        "cursor_new = conn_new.cursor()\n",
        "\n",
        "# ... (rest of your code using conn_new and cursor_new) ..."
      ]
    },
    {
      "cell_type": "code",
      "execution_count": null,
      "metadata": {
        "colab": {
          "base_uri": "https://localhost:8080/"
        },
        "id": "ympAIqguvUUW",
        "outputId": "00aff015-520e-440d-84b1-a1240b2c06f8"
      },
      "outputs": [
        {
          "name": "stdout",
          "output_type": "stream",
          "text": [
            "Currently connected to database: 404ImageDBsql\n"
          ]
        }
      ],
      "source": [
        "import pyodbc\n",
        "\n",
        "# ... (your existing connection code to 'master') ...\n",
        "\n",
        "# 1. Check current database:\n",
        "cursor_new.execute(\"SELECT DB_NAME()\")\n",
        "current_database = cursor_new.fetchone()[0]\n",
        "print(f\"Currently connected to database: {current_database}\")\n"
      ]
    },
    {
      "cell_type": "code",
      "execution_count": null,
      "metadata": {
        "id": "yZmLg-WSv2bU"
      },
      "outputs": [],
      "source": [
        "import pyodbc\n",
        "import os\n",
        "\n",
        "# ... (your code to create conn_new and cursor_new, connecting to '404ImageDBsql') ...\n",
        "\n",
        "conn_new.autocommit = True  # Enable autocommit for the new connection\n",
        "cursor_new = conn_new.cursor()\n",
        "\n",
        "image_path = '/content/105 Export001 (1).png'\n",
        "\n",
        "def insert_image(cursor, image_path):\n",
        "    with open(image_path, 'rb') as image_file:\n",
        "        image_data = image_file.read()\n",
        "\n",
        "    image_name = os.path.basename(image_path)\n",
        "    cursor.execute(\"INSERT INTO Images (ImageName, ImageData) VALUES (?, ?)\", image_name, image_data)\n",
        "    # conn.commit()  # Commit is handled by autocommit now\n",
        "\n",
        "# Example usage:\n",
        "insert_image(cursor_new, image_path)  # Use cursor_new here"
      ]
    },
    {
      "cell_type": "code",
      "execution_count": null,
      "metadata": {
        "colab": {
          "base_uri": "https://localhost:8080/"
        },
        "id": "e5U68IFRwzwF",
        "outputId": "6227cced-5211-437a-f8a4-17e1a991572b"
      },
      "outputs": [
        {
          "name": "stdout",
          "output_type": "stream",
          "text": [
            "Image Name: 105 Export001 (1).png\n",
            "Image Data: b'\\x89PNG\\r\\n\\x1a\\n\\x00\\x00\\x00\\rIHDR\\x00\\x00P\\x00\\x00\\x00K(\\x08\\x02\\x00\\x00\\x00a\\xa4\\x90\\xb9\\x00\\x00\\x00\\tpHYs\\x00\\x00\\x0fa\\x00\\x00\\x0fa\\x01\\xa8?\\xa7i\\x00\\x00\\x80\\x00IDATx\\x9c\\xec\\xdd\\rs\\xa38\\xba0l\\x04v>\\xba{\\xa6\\x9e\\xa9\\xf7T\\xed\\xf9\\xff\\xffmO\\xd59{>j\\xa7vv\\xa7;1'...\n"
          ]
        }
      ],
      "source": [
        "import pyodbc\n",
        "import os\n",
        "\n",
        "# ... (your existing connection code to '404ImageDBsql' using conn_new and cursor_new) ...\n",
        "\n",
        "# Query to retrieve image data:\n",
        "cursor_new.execute(\"SELECT ImageName, ImageData FROM Images\")  # Use cursor_new\n",
        "\n",
        "# Fetch the results:\n",
        "results = cursor_new.fetchall()\n",
        "\n",
        "# Print the image names and check if data was retrieved:\n",
        "for row in results:\n",
        "    image_name = row.ImageName\n",
        "    image_data = row.ImageData  # This will contain the binary image data\n",
        "    print(f\"Image Name: {image_name}\")\n",
        "    print(f\"Image Data: {image_data[:100]}...\")  # Print a snippet of the data for verification"
      ]
    },
    {
      "cell_type": "code",
      "execution_count": null,
      "metadata": {
        "colab": {
          "background_save": true
        },
        "id": "DqPfHJhzxCLD",
        "outputId": "ef5539e8-c7dc-4268-a003-7a48f45b891c"
      },
      "outputs": [
        {
          "name": "stdout",
          "output_type": "stream",
          "text": [
            "Buffered data was truncated after reaching the output size limit."
          ]
        }
      ],
      "source": [
        "import pyodbc\n",
        "import os\n",
        "from IPython.display import Image, display\n",
        "import tempfile\n",
        "\n",
        "# ... (your existing connection code to '404ImageDBsql' using conn_new and cursor_new) ...\n",
        "\n",
        "# Query to retrieve image data:\n",
        "cursor_new.execute(\"SELECT ImageName, ImageData FROM Images\")\n",
        "\n",
        "# Fetch the results:\n",
        "results = cursor_new.fetchall()\n",
        "\n",
        "# Display the images:\n",
        "for row in results:\n",
        "    image_name = row.ImageName\n",
        "    image_data = row.ImageData\n",
        "\n",
        "    # Create a temporary file to store the image data\n",
        "    with tempfile.NamedTemporaryFile(suffix=\".png\", delete=False) as temp_file:\n",
        "        temp_file.write(image_data)\n",
        "        temp_file_name = temp_file.name\n",
        "\n",
        "    # Display the image using IPython.display.Image\n",
        "    display(Image(filename=temp_file_name))\n",
        "\n",
        "    # Optionally, remove the temporary file\n",
        "    os.remove(temp_file_name)"
      ]
    },
    {
      "cell_type": "code",
      "execution_count": null,
      "metadata": {
        "id": "vyl12EYMxN-8"
      },
      "outputs": [],
      "source": [
        "import pyodbc\n",
        "import os\n",
        "\n",
        "# ... (your code to create conn_new and cursor_new, connecting to '404ImageDBsql') ...\n",
        "\n",
        "conn_new.autocommit = True\n",
        "cursor_new = conn_new.cursor()\n",
        "\n",
        "# Example usage:\n",
        "image_paths = [\n",
        "    '/content/105 Export001 (1).png',\n",
        "    '/content/105 Export002.png',\n",
        "    '/content/105 Export003.png',\n",
        "    '/content/110 Export004.png',\n",
        "    '/content/111 Export003.png',\n",
        "    '/content/112 Export001.png',\n",
        "    '/content/112 Export002.png',\n",
        "    '/content/113 Export001.png',\n",
        "    '/content/113 Export002.png',\n",
        "    '/content/113 Export003.png',\n",
        "    '/content/115 Export002.png',\n",
        "    '/content/117 Export001.png',\n",
        "    '/content/117 Export002.png',\n",
        "    '/content/121 Export001.png',\n",
        "    '/content/121 Export002.png',\n",
        "    '/content/126 Export002.png',\n",
        "    '/content/136 Export001.png',\n",
        "    '/content/136 Export002.png',\n",
        "    '/content/136 Export003.png',\n",
        "    '/content/136 Export004.png',\n",
        "    '/content/137 Export001.png',\n",
        "    '/content/137 Export002.png',\n",
        "    '/content/137 Export003.png',\n",
        "    '/content/137 Export004.png',\n",
        "    '/content/138 Export001.png',\n",
        "    '/content/138 Export002.png',\n",
        "    '/content/138 Export003.png',\n",
        "    '/content/138 Export004.png',\n",
        "    '/content/143HD_001.png',\n",
        "    '/content/143HD_002.png',\n",
        "    '/content/154HD_001.png',\n",
        "    '/content/154HD_002.png',\n",
        "    '/content/154HD_003.png',\n",
        "    '/content/154HD_004.png',\n",
        "    '/content/155HD_001.png',\n",
        "    '/content/155HD_002.png',\n",
        "    '/content/157HD_004.png',\n",
        "    '/content/158HD_001.png',\n",
        "    '/content/158HD_002.png',\n",
        "    '/content/158HD_003.png',\n",
        "    '/content/158HD_004.png',\n",
        "    '/content/159HD_001.png',\n",
        "    '/content/159HD_002.png',\n",
        "    '/content/159HD_003.png',\n",
        "    '/content/159HD_004.png',\n",
        "    '/content/160HD_001.png',\n",
        "    '/content/160HD_002.png',\n",
        "    '/content/161HD_001.png',\n",
        "    '/content/161HD_002.png',\n",
        "    '/content/161HD_003.png',\n",
        "    '/content/162HD_001.png',\n",
        "    '/content/162HD_002.png',\n",
        "    '/content/162HD_003.png',\n",
        "    '/content/162HD_004.png',\n",
        "    '/content/163HD_001.png',\n",
        "    '/content/163HD_002.png',\n",
        "    '/content/165HD_002.png',\n",
        "    '/content/166HD_004.png',\n",
        "    '/content/168HD_002.png',\n",
        "    '/content/168HD_004.png',\n",
        "    '/content/172HD_003.png',\n",
        "    '/content/173HD_004.png',\n",
        "    '/content/174 Export001.png',\n",
        "    '/content/174 Export002.png',\n",
        "    '/content/174 Export004.png',\n",
        "    '/content/176 Export001.png',\n",
        "    '/content/176 Export004.png',\n",
        "    '/content/176HD_002.png',\n",
        "    '/content/176HD_003.png',\n",
        "    '/content/178 Export001.png',\n",
        "    '/content/178 Export002.png',\n",
        "    '/content/178 Export003.png',\n",
        "    '/content/178 Export004.png',\n",
        "    '/content/179HD_001.png',\n",
        "    '/content/179HD_002.png',\n",
        "    '/content/179HD_003.png',\n",
        "    '/content/179HD_004.png',\n",
        "    '/content/180HD_001.png',\n",
        "    '/content/180HD_002.png',\n",
        "    '/content/180HD_003.png',\n",
        "    '/content/180HD_004.png',\n",
        "    '/content/181HD_001.png',\n",
        "    '/content/181HD_002.png',\n",
        "    '/content/181HD_003.png',\n",
        "    '/content/181HD_004.png',\n",
        "    '/content/182HD_001.png',\n",
        "    '/content/182HD_002.png',\n",
        "    '/content/182HD_003.png',\n",
        "    '/content/182HD_004.png',\n",
        "    '/content/184HD_001.png',\n",
        "    '/content/184HD_002.png',\n",
        "    '/content/184HD_003.png',\n",
        "    '/content/184HD_004.png',\n",
        "    # Add more image paths here...\n",
        "]\n",
        "\n",
        "def insert_image(cursor, image_path):\n",
        "    with open(image_path, 'rb') as image_file:\n",
        "        image_data = image_file.read()\n",
        "    image_name = os.path.basename(image_path)\n",
        "    cursor.execute(\"INSERT INTO Images (ImageName, ImageData) VALUES (?, ?)\", image_name, image_data)\n",
        "\n",
        "def process_image_paths(cursor, image_paths):\n",
        "    for image_path in image_paths:\n",
        "        insert_image(cursor, image_path)\n",
        "\n",
        "\n",
        "process_image_paths(cursor_new, image_paths)"
      ]
    },
    {
      "cell_type": "markdown",
      "source": [
        "Below code cell used to reconnect to server"
      ],
      "metadata": {
        "id": "YbJUpYvq_SB7"
      }
    },
    {
      "cell_type": "code",
      "source": [
        "import pyodbc\n",
        "server = 'sqldatabase404.database.windows.net'\n",
        "database = 'master'\n",
        "username = 'sql404admin'\n",
        "password = 'sheepstool404()'\n",
        "driver_name = \"ODBC Driver 17 for SQL Server\"\n",
        "\n",
        "connection_string = f'''\n",
        "       DRIVER={{{driver_name}}};\n",
        "       SERVER={server};\n",
        "       DATABASE={database};\n",
        "       UID={username};\n",
        "       PWD={password};\n",
        "       TrustServerCertificate=no;\n",
        "   '''\n",
        "\n",
        "conn = pyodbc.connect(connection_string)\n",
        "cursor = conn.cursor()"
      ],
      "metadata": {
        "id": "s0acxWxx2orw"
      },
      "execution_count": null,
      "outputs": []
    },
    {
      "cell_type": "code",
      "source": [
        "import pyodbc\n",
        "import os\n",
        "from IPython.display import Image, display\n",
        "import tempfile\n",
        "\n",
        "# ... (your existing connection code to '404ImageDBsql' using conn_new and cursor_new) ...\n",
        "\n",
        "# 1. Count the number of images in the table:\n",
        "cursor_new.execute(\"SELECT COUNT(*) FROM Images\")\n",
        "image_count = cursor_new.fetchone()[0]\n",
        "print(f\"Total number of images in the database: {image_count}\")\n",
        "\n",
        "# 2. Retrieve and display a few sample images (optional):\n",
        "cursor_new.execute(\"SELECT TOP 5 ImageName, ImageData FROM Images\")  # Adjust 'TOP 5' to change the number of images\n",
        "results = cursor_new.fetchall()\n",
        "\n",
        "for row in results:\n",
        "    image_name = row.ImageName\n",
        "    image_data = row.ImageData\n",
        "\n",
        "    with tempfile.NamedTemporaryFile(suffix=\".png\", delete=False) as temp_file:\n",
        "        temp_file.write(image_data)\n",
        "        temp_file_name = temp_file.name\n",
        "\n",
        "    display(Image(filename=temp_file_name))\n",
        "    os.remove(temp_file_name)"
      ],
      "metadata": {
        "colab": {
          "base_uri": "https://localhost:8080/"
        },
        "id": "Y2203gbW6Iz8",
        "outputId": "f535a1ed-611e-4bc1-f4d2-326efd210d9c"
      },
      "execution_count": null,
      "outputs": [
        {
          "output_type": "stream",
          "name": "stdout",
          "text": [
            "Total number of images in the database: 94\n"
          ]
        }
      ]
    },
    {
      "cell_type": "code",
      "source": [
        "server = 'sqldatabase404.database.windows.net'\n",
        "database = 'master'\n",
        "username = 'sql404admin'\n",
        "password = 'sheepstool404()'\n",
        "driver_name = \"ODBC Driver 17 for SQL Server\"\n",
        "\n",
        "import pyodbc\n",
        "import io\n",
        "from PIL import Image\n",
        "from IPython.display import display\n",
        "\n",
        "# 1. Set up the connection string\n",
        "\n",
        "\n",
        "connection_string = (\n",
        "    f\"DRIVER={driver_name};\"\n",
        "    f\"Server={server};\"\n",
        "    f\"Database={database};\"\n",
        "    f\"UID={username};\"\n",
        "    f\"PWD={password};\"\n",
        "    \"Encrypt=yes;\"\n",
        "    \"TrustServerCertificate=no;\"\n",
        "\n",
        ")\n",
        "\n",
        "try:\n",
        "    conn = pyodbc.connect(connection_string)\n",
        "    print(\"Connection successful!\")\n",
        "except Exception as e:\n",
        "    print(\"Connection failed:\", e)\n",
        "\n",
        "cursor = conn.cursor()\n",
        "\n",
        "# 2. Retrieve the TOP 5 rows (adjust table/column names to match your schema)\n",
        "query = \"\"\"\n",
        "SELECT TOP 5 ImageID, ImageName, ImageData\n",
        "FROM dbo.Images\n",
        "ORDER BY ImageID\n",
        "\"\"\"\n",
        "cursor.execute(query)\n",
        "\n",
        "rows = cursor.fetchall()\n",
        "\n",
        "# 3. Loop through each row and display the image inline\n",
        "for image_id, image_name, image_bytes in rows:\n",
        "    print(f\"\\nImageID: {image_id}, Name: {image_name}, Size: {len(image_bytes)} bytes\")\n",
        "\n",
        "    # Convert the VARBINARY(MAX) data to a PIL image\n",
        "    image_stream = io.BytesIO(image_bytes)\n",
        "    try:\n",
        "        pil_image = Image.open(image_stream)\n",
        "        display(pil_image)  # Display the image inline in Colab\n",
        "    except Exception as e:\n",
        "        print(f\"Error displaying image {image_name}: {e}\")\n"
      ],
      "metadata": {
        "colab": {
          "base_uri": "https://localhost:8080/",
          "height": 269
        },
        "id": "nZ0KNj6V_cP6",
        "outputId": "880e58f6-b53c-4936-ffac-7d2f50703694"
      },
      "execution_count": null,
      "outputs": [
        {
          "output_type": "stream",
          "name": "stdout",
          "text": [
            "Connection successful!\n"
          ]
        },
        {
          "output_type": "error",
          "ename": "ProgrammingError",
          "evalue": "('42000', \"[42000] [Microsoft][ODBC Driver 17 for SQL Server][SQL Server]The SELECT permission was denied on the object 'Images', database 'master', schema 'dbo'. (229) (SQLExecDirectW)\")",
          "traceback": [
            "\u001b[0;31m---------------------------------------------------------------------------\u001b[0m",
            "\u001b[0;31mProgrammingError\u001b[0m                          Traceback (most recent call last)",
            "\u001b[0;32m<ipython-input-74-4845c6e74f89>\u001b[0m in \u001b[0;36m<cell line: 0>\u001b[0;34m()\u001b[0m\n\u001b[1;32m     38\u001b[0m \u001b[0mORDER\u001b[0m \u001b[0mBY\u001b[0m \u001b[0mImageID\u001b[0m\u001b[0;34m\u001b[0m\u001b[0;34m\u001b[0m\u001b[0m\n\u001b[1;32m     39\u001b[0m \"\"\"\n\u001b[0;32m---> 40\u001b[0;31m \u001b[0mcursor\u001b[0m\u001b[0;34m.\u001b[0m\u001b[0mexecute\u001b[0m\u001b[0;34m(\u001b[0m\u001b[0mquery\u001b[0m\u001b[0;34m)\u001b[0m\u001b[0;34m\u001b[0m\u001b[0;34m\u001b[0m\u001b[0m\n\u001b[0m\u001b[1;32m     41\u001b[0m \u001b[0;34m\u001b[0m\u001b[0m\n\u001b[1;32m     42\u001b[0m \u001b[0mrows\u001b[0m \u001b[0;34m=\u001b[0m \u001b[0mcursor\u001b[0m\u001b[0;34m.\u001b[0m\u001b[0mfetchall\u001b[0m\u001b[0;34m(\u001b[0m\u001b[0;34m)\u001b[0m\u001b[0;34m\u001b[0m\u001b[0;34m\u001b[0m\u001b[0m\n",
            "\u001b[0;31mProgrammingError\u001b[0m: ('42000', \"[42000] [Microsoft][ODBC Driver 17 for SQL Server][SQL Server]The SELECT permission was denied on the object 'Images', database 'master', schema 'dbo'. (229) (SQLExecDirectW)\")"
          ]
        }
      ]
    },
    {
      "cell_type": "code",
      "source": [],
      "metadata": {
        "id": "ng8s0Xk-Fy1R"
      },
      "execution_count": null,
      "outputs": []
    }
  ],
  "metadata": {
    "colab": {
      "provenance": []
    },
    "kernelspec": {
      "display_name": "Python 3",
      "name": "python3"
    },
    "language_info": {
      "name": "python"
    }
  },
  "nbformat": 4,
  "nbformat_minor": 0
}